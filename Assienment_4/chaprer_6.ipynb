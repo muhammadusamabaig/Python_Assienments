{
 "cells": [
  {
   "cell_type": "markdown",
   "metadata": {},
   "source": [
    "# Chapter 6 Dictionaries"
   ]
  },
  {
   "cell_type": "markdown",
   "metadata": {},
   "source": [
    "<b>6-1. Person: Use a dictionary to store information about a person you know.\n",
    "Store their first name, last name, age, and the city in which they live. You\n",
    "should have keys such as first_name, last_name, age, and city. Print each\n",
    "piece of information stored in your dictionary</b>"
   ]
  },
  {
   "cell_type": "code",
   "execution_count": null,
   "metadata": {},
   "outputs": [],
   "source": [
    "UserInfo={'first_name':'Muhammad','last_name':'Usama Baig','age':2,'city':'karachi'}\n",
    "for i in UserInfo:\n",
    "    print(i)\n",
    "    "
   ]
  },
  {
   "cell_type": "markdown",
   "metadata": {},
   "source": [
    "<b>6-2. Favorite Numbers: Use a dictionary to store people’s favorite numbers.\n",
    "Think of five names, and use them as keys in your dictionary. Think of a favorite\n",
    "number for each person, and store each as a value in your dictionary. Print\n",
    "each person’s name and their favorite number. For even more fun, poll a few\n",
    "friends and get some actual data for your program.</b>"
   ]
  },
  {
   "cell_type": "code",
   "execution_count": null,
   "metadata": {},
   "outputs": [],
   "source": [
    "polling={'adnan':25,'hassan':12,'usama':11,'affan':15,'noman':18}\n",
    "for i in polling.items():\n",
    "    print(f'favorite number of {i[0]} is {i[1]}')"
   ]
  },
  {
   "cell_type": "markdown",
   "metadata": {},
   "source": [
    "<b>6-3. Glossary: A Python dictionary can be used to model an actual dictionary.\n",
    "However, to avoid confusion, let’s call it a glossary</b>"
   ]
  },
  {
   "cell_type": "markdown",
   "metadata": {},
   "source": [
    "<li>Think of five programming words you’ve learned about in the previous\n",
    "chapters. Use these words as the keys in your glossary, and store their\n",
    "meanings as values.</li>"
   ]
  },
  {
   "cell_type": "code",
   "execution_count": null,
   "metadata": {},
   "outputs": [],
   "source": [
    "favorite_languages = {\n",
    " 'jen': 'python',\n",
    " 'sarah': 'c',\n",
    " 'edward': 'ruby',\n",
    " 'phil': 'python',\n",
    " }\n",
    "for i in favorite_languages.items():\n",
    "    print(f'{i[0]}:\\n\\t{i[1]}')\n",
    "    "
   ]
  },
  {
   "cell_type": "markdown",
   "metadata": {},
   "source": [
    "<li>6-4. Glossary 2: Now that you know how to loop through a dictionary, clean\n",
    "up the code from Exercise 6-3 (page 102) by replacing your series of print\n",
    "statements with a loop that runs through the dictionary’s keys and values.\n",
    "When you’re sure that your loop works, add five more Python terms to your\n",
    "glossary. When you run your program again, these new words and meanings\n",
    "should automatically be included in the output.</li>"
   ]
  },
  {
   "cell_type": "code",
   "execution_count": null,
   "metadata": {},
   "outputs": [],
   "source": [
    "favorite_languages = {\n",
    " 'jen': 'c#',\n",
    " 'sarah': 'c',\n",
    " 'edward': 'R',\n",
    " 'phil': 'javascript',\n",
    " }"
   ]
  },
  {
   "cell_type": "markdown",
   "metadata": {},
   "source": [
    "<b>6-5. Rivers: Make a dictionary containing three major rivers and the country\n",
    "each river runs through. One key-value pair might be 'nile': 'egypt'.\n",
    "</b>"
   ]
  },
  {
   "cell_type": "code",
   "execution_count": null,
   "metadata": {},
   "outputs": [],
   "source": [
    "major_rivers={'kabol':'pakistan','jahlem':'pakistan','nile':'egypt'}"
   ]
  },
  {
   "cell_type": "markdown",
   "metadata": {},
   "source": [
    "<li>Use a loop to print a sentence about each river, such as The Nile runs\n",
    "through Egypt.</li>"
   ]
  },
  {
   "cell_type": "code",
   "execution_count": null,
   "metadata": {},
   "outputs": [],
   "source": [
    "for i in major_rivers:\n",
    "        if i =='kabol' or i=='jahlem':\n",
    "            print(f'{i}The {i} run in pakistan')\n",
    "        else:\n",
    "            print(f'The {i} runs through Egypt.')"
   ]
  },
  {
   "cell_type": "markdown",
   "metadata": {},
   "source": [
    "<li>Use a loop to print the name of each river included in the dictionary</li>"
   ]
  },
  {
   "cell_type": "code",
   "execution_count": null,
   "metadata": {},
   "outputs": [],
   "source": [
    "major_rivers={'kabol':'pakistan','jahlem':'pakistan','nile':'egypt'}\n",
    "for i in major_rivers:\n",
    "    print(i)"
   ]
  },
  {
   "cell_type": "markdown",
   "metadata": {},
   "source": [
    "<li>Use a loop to print the name of each country included in the dictionary.</li>"
   ]
  },
  {
   "cell_type": "code",
   "execution_count": null,
   "metadata": {},
   "outputs": [],
   "source": [
    "major_rivers={'kabol':'pakistan','jahlem':'pakistan','nile':'egypt'}\n",
    "for i in major_rivers.values():\n",
    "    print(i)"
   ]
  },
  {
   "cell_type": "markdown",
   "metadata": {},
   "source": [
    "<b>6-6. Polling: Use the code in favorite_languages.py (page 104)</b>"
   ]
  },
  {
   "cell_type": "markdown",
   "metadata": {},
   "source": [
    "<li>Make a list of people who should take the favorite languages poll. Include\n",
    "some names that are already in the dictionary and some that are not</li>\n",
    "<li>Loop through the list of people who should take the poll. If they have\n",
    "already taken the poll, print a message thanking them for responding.\n",
    "If they have not yet taken the poll, print a message inviting them to take\n",
    "the poll.</li>"
   ]
  },
  {
   "cell_type": "code",
   "execution_count": 6,
   "metadata": {},
   "outputs": [
    {
     "name": "stdout",
     "output_type": "stream",
     "text": [
      "faraz please take poll\n",
      "naeem please take poll\n",
      "affan please take poll\n",
      "adnan please take poll\n",
      "jen thanks for responding\n",
      "sarah thanks for responding\n",
      "edward thanks for responding\n"
     ]
    }
   ],
   "source": [
    "%run favorite_languages.py\n"
   ]
  },
  {
   "cell_type": "markdown",
   "metadata": {},
   "source": [
    "<b>6-7. People: Start with the program you wrote for Exercise 6-1 (page 102).\n",
    "Make two new dictionaries representing different people, and store all three\n",
    "dictionaries in a list called people. Loop through your list of people. As you\n",
    "loop through the list, print everything you know about each person.\n",
    "</b>"
   ]
  },
  {
   "cell_type": "code",
   "execution_count": 13,
   "metadata": {},
   "outputs": [
    {
     "name": "stdout",
     "output_type": "stream",
     "text": [
      "name: jen \n",
      "favorite_language is : c#\n",
      "\n",
      "name: sarah \n",
      "favorite_language is : c\n",
      "\n",
      "name: edward \n",
      "favorite_language is : R\n",
      "\n",
      "name: phil \n",
      "favorite_language is : javascript\n",
      "\n",
      "name: adnan \n",
      "favorite_language is : c#\n",
      "\n",
      "name: rehman \n",
      "favorite_language is : c\n",
      "\n",
      "name: irfan \n",
      "favorite_language is : R\n",
      "\n",
      "name: jameel \n",
      "favorite_language is : javascript\n",
      "\n"
     ]
    }
   ],
   "source": [
    "peoples =[ {\n",
    " 'jen': 'c#',\n",
    " 'sarah': 'c',\n",
    " 'edward': 'R',\n",
    " 'phil': 'javascript',\n",
    " }\n",
    ",\n",
    "   {\n",
    " 'adnan': 'c#',\n",
    " 'rehman': 'c',\n",
    " 'irfan': 'R',\n",
    " 'jameel': 'javascript',\n",
    " } \n",
    "]\n",
    "\n",
    "for i in peoples:\n",
    "    for x in i.items():\n",
    "        print(f'name: {x[0]} \\nfavorite_language is : {x[1]}\\n')\n"
   ]
  },
  {
   "cell_type": "markdown",
   "metadata": {},
   "source": [
    "<b>6-8. Pets: Make several dictionaries, where the name of each dictionary is the\n",
    "name of a pet. In each dictionary, include the kind of animal and the owner’s\n",
    "name. Store these dictionaries in a list called pets. Next, loop through your list\n",
    "and as you do print everything you know about each pet</b>"
   ]
  },
  {
   "cell_type": "code",
   "execution_count": 40,
   "metadata": {},
   "outputs": [
    {
     "name": "stdout",
     "output_type": "stream",
     "text": [
      "animal-type : pet\n",
      "owner is : jhon\n",
      "\n",
      "animal-type : pet\n",
      "owner is : jacky\n",
      "\n",
      "animal-type : pet\n",
      "owner is : shahzab\n",
      "\n"
     ]
    }
   ],
   "source": [
    "dog={'kind':'pet','owner':'jhon'}\n",
    "cat={'kind':'pet','owner':'jacky'}\n",
    "bird={'kind':'pet','owner':'shahzab'}\n",
    "pets=[dog,cat,bird]\n",
    "for i in pets:\n",
    "    \n",
    "   \n",
    "    print(f\"animal-type : {i['kind']}\\nowner is : {i['owner']}\\n\")"
   ]
  },
  {
   "cell_type": "markdown",
   "metadata": {},
   "source": [
    "<b>6-9. Favorite Places: Make a dictionary called favorite_places. Think of three\n",
    "names to use as keys in the dictionary, and store one to three favorite places\n",
    "for each person. To make this exercise a bit more interesting, ask some friends\n",
    "to name a few of their favorite places. Loop through the dictionary, and print\n",
    "each person’s name and their favorite places.</b>"
   ]
  },
  {
   "cell_type": "code",
   "execution_count": 45,
   "metadata": {},
   "outputs": [
    {
     "name": "stdout",
     "output_type": "stream",
     "text": [
      "name : azlan\n",
      "favorite-place is islamabad\n",
      "\n",
      "name : affan\n",
      "favorite-place is queta\n",
      "\n",
      "name : usama\n",
      "favorite-place is balochistan\n",
      "\n"
     ]
    }
   ],
   "source": [
    "favorite_places={'islamabad':'azlan','queta':'affan','balochistan':'usama'}\n",
    "for i in favorite_places.items():\n",
    "    print(f'name : {i[1]}\\nfavorite-place is {i[0]}\\n')"
   ]
  },
  {
   "cell_type": "markdown",
   "metadata": {},
   "source": [
    "<b>6-10. Favorite Numbers: Modify your program from Exercise 6-2 (page 102) so\n",
    "each person can have more than one favorite number. Then print each person’s\n",
    "name along with their favorite numbers.</b>"
   ]
  },
  {
   "cell_type": "code",
   "execution_count": 57,
   "metadata": {},
   "outputs": [
    {
     "name": "stdout",
     "output_type": "stream",
     "text": [
      "adnan :\n",
      "\n",
      "favorite number is : 25\n",
      "\n",
      "favorite number is : 24\n",
      "\n",
      "favorite number is : 12\n",
      "\n",
      "favorite number is : 66\n",
      "\n",
      "favorite number is : 91\n",
      "\n",
      "hassan :\n",
      "\n",
      "favorite number is : 1\n",
      "\n",
      "favorite number is : 3\n",
      "\n",
      "favorite number is : 22\n",
      "\n",
      "favorite number is : 6\n",
      "\n",
      "favorite number is : 44\n",
      "\n",
      "favorite number is : 2\n",
      "\n",
      "usama :\n",
      "\n",
      "favorite number is : 78\n",
      "\n",
      "favorite number is : 53\n",
      "\n",
      "favorite number is : 2\n",
      "\n",
      "favorite number is : 1\n",
      "\n",
      "favorite number is : 44\n",
      "\n",
      "favorite number is : 22\n",
      "\n",
      "affan :\n",
      "\n",
      "favorite number is : 783\n",
      "\n",
      "favorite number is : 2\n",
      "\n",
      "favorite number is : 46\n",
      "\n",
      "favorite number is : 89\n",
      "\n",
      "favorite number is : 12\n",
      "\n",
      "favorite number is : 11\n",
      "\n"
     ]
    }
   ],
   "source": [
    "polling={'adnan':[25,24,12,66,91],'hassan':[1,3,22,6,44,2],'usama':[78,53,2,1,44,22],'affan':[783,2,46,89,12,11]}\n",
    "for i in polling.items():\n",
    "    print(f'{i[0]} :\\n')\n",
    "    for x in i[1]:\n",
    "        print(f'favorite number is : {x}\\n')\n",
    "   \n",
    "        \n",
    "    "
   ]
  },
  {
   "cell_type": "markdown",
   "metadata": {},
   "source": [
    "<b>6-11. Cities: Make a dictionary called cities. Use the names of three cities as\n",
    "keys in your dictionary. Create a dictionary of information about each city and\n",
    "include the country that the city is in, its approximate population, and one fact\n",
    "about that city. The keys for each city’s dictionary should be something like\n",
    "country, population, and fact. Print the name of each city and all of the information you have stored about it.</b>"
   ]
  },
  {
   "cell_type": "code",
   "execution_count": 83,
   "metadata": {},
   "outputs": [
    {
     "name": "stdout",
     "output_type": "stream",
     "text": [
      "City Name : karachi \n",
      "\n",
      " information :  \n",
      " capital of pakistan Province of sindh home to Pakistans two largest seaports Port of Karachi and Port Bin Qasim\n",
      "\n",
      "City Name : lahore \n",
      "\n",
      " information :  \n",
      " Lahore is also home to Pakistan's film industry, Lollywood, and is a major centre of Qawwali music.The city also hosts much of Pakistans tourist industry, with major attractions including the Walled City, the famous Badshahi and Wazir Khan mosques, as well as several Sikh and Sufi shrines\n",
      "\n",
      "City Name : islamabad \n",
      "\n",
      " information :  \n",
      " The city is known for the presence of several parks and forests, including the Margalla Hills National Park and the Shakarparian. The city is home to several landmarks, with the most notable one being the Faisal Mosque − the largest mosque in South Asia and the fifth largest in the world\n"
     ]
    }
   ],
   "source": [
    "cities={'karachi':\n",
    "        \n",
    "        \"capital of pakistan Province of sindh home to Pakistans two largest seaports Port of Karachi and Port Bin Qasim\\n\",\n",
    "        \n",
    "        'lahore':\n",
    "        \"Lahore is also home to Pakistan's film industry, Lollywood, and is a major centre of Qawwali music.The city also hosts much of Pakistans tourist industry, with major attractions including the Walled City, the famous Badshahi and Wazir Khan mosques, as well as several Sikh and Sufi shrines\\n\",\n",
    "       \n",
    "        'islamabad':'The city is known for the presence of several parks and forests, including the Margalla Hills National Park and the Shakarparian. The city is home to several landmarks, with the most notable one being the Faisal Mosque − the largest mosque in South Asia and the fifth largest in the world'\n",
    "       }\n",
    "\n",
    "\n",
    "for i in cities.items():\n",
    "    print(f'City Name : {i[0]} \\n\\n information :  \\n {i[1]}')"
   ]
  },
  {
   "cell_type": "markdown",
   "metadata": {},
   "source": [
    "<b>6-12. Extensions: We’re now working with examples that are complex enough\n",
    "that they can be extended in any number of ways. Use one of the example programs from this chapter, and extend it by adding new keys and values, changing the context of the program or improving the formatting of the output.</b>"
   ]
  },
  {
   "cell_type": "code",
   "execution_count": 88,
   "metadata": {},
   "outputs": [
    {
     "name": "stdout",
     "output_type": "stream",
     "text": [
      "id : 1574083\n",
      "username : snoopdogg\n",
      "full_name : Snoop Dogg\n",
      "profile_picture : http://distillery.s3.amazonaws.com/profiles/profile_1574083_75sq_1295469061.jpg\n",
      "bio : This is my bio\n",
      "website : http://snoopdogg.com\n",
      "counts : {'media': 1320, 'follows': 420, 'followed_by': 3410}\n"
     ]
    }
   ],
   "source": [
    "employees={\n",
    "    \"data\": {\n",
    "        \"id\": \"1574083\",\n",
    "        \"username\": \"snoopdogg\",\n",
    "        \"full_name\": \"Snoop Dogg\",\n",
    "        \"profile_picture\": \"http://distillery.s3.amazonaws.com/profiles/profile_1574083_75sq_1295469061.jpg\",\n",
    "        \"bio\": \"This is my bio\",\n",
    "        \"website\": \"http://snoopdogg.com\",\n",
    "        \"counts\": {\n",
    "            \"media\": 1320,\n",
    "            \"follows\": 420,\n",
    "            \"followed_by\": 3410\n",
    "        }\n",
    "}\n",
    "}\n",
    "for i in employees['data'].items():\n",
    "    print(f'{i[0]} : {i[1]}')"
   ]
  },
  {
   "cell_type": "code",
   "execution_count": null,
   "metadata": {},
   "outputs": [],
   "source": []
  }
 ],
 "metadata": {
  "kernelspec": {
   "display_name": "Python 3",
   "language": "python",
   "name": "python3"
  },
  "language_info": {
   "codemirror_mode": {
    "name": "ipython",
    "version": 3
   },
   "file_extension": ".py",
   "mimetype": "text/x-python",
   "name": "python",
   "nbconvert_exporter": "python",
   "pygments_lexer": "ipython3",
   "version": "3.8.5"
  }
 },
 "nbformat": 4,
 "nbformat_minor": 4
}
