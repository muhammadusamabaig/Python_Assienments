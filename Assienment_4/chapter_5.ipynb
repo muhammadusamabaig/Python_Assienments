{
 "cells": [
  {
   "cell_type": "markdown",
   "metadata": {},
   "source": [
    "<b>5-1. Conditional Tests: Write a series of conditional tests. Print a statement\n",
    "describing each test and your prediction for the results of each test. Your code\n",
    "should look something like this:</b>"
   ]
  },
  {
   "cell_type": "markdown",
   "metadata": {},
   "source": [
    "<li>car = 'subaru'</li>\n",
    "<li>print(\"Is car == 'subaru'? I predict True.\")</li>\n",
    "<li>print(car == 'subaru')</li>\n",
    "<li>print(\"\\nIs car == 'audi'? I predict False.\")</li>\n",
    "<li>print(car == 'audi')</li>"
   ]
  },
  {
   "cell_type": "markdown",
   "metadata": {},
   "source": [
    "<li>Look closely at your results, and make sure you understand why each line\n",
    "evaluates to True or False.</li>"
   ]
  },
  {
   "cell_type": "code",
   "execution_count": 1,
   "metadata": {},
   "outputs": [
    {
     "name": "stdout",
     "output_type": "stream",
     "text": [
      "I am true\n"
     ]
    }
   ],
   "source": [
    "car = 'subaru'\n",
    "if (car=='subaru'):\n",
    "    print('I am true')\n",
    "if (car=='audi'):\n",
    "    print('I am false')\n",
    "    "
   ]
  },
  {
   "cell_type": "markdown",
   "metadata": {},
   "source": [
    "<li>Create at least 2 tests. Have at least 5 tests evaluate to True and another\n",
    "5 tests evaluate to False</li>"
   ]
  },
  {
   "cell_type": "code",
   "execution_count": 2,
   "metadata": {},
   "outputs": [
    {
     "name": "stdout",
     "output_type": "stream",
     "text": [
      "yes\n"
     ]
    }
   ],
   "source": [
    "x = 0\n",
    "y = 5\n",
    "if x < y: \n",
    "# true    \n",
    "    print('yes')\n",
    "if y < x:  \n",
    " # false    \n",
    "    print('yes')    "
   ]
  },
  {
   "cell_type": "markdown",
   "metadata": {},
   "source": [
    "<b>5-2. More Conditional Tests: You don’t have to limit the number of tests you\n",
    "create to 10. If you want to try more comparisons, write more tests and add\n",
    "them to conditional_tests.py. Have at least one True and one False result for\n",
    "each of the following:</b>"
   ]
  },
  {
   "cell_type": "markdown",
   "metadata": {},
   "source": [
    "<li>Tests for equality and inequality with strings</li>\n",
    "<li>Tests using the lower() function</li>\n",
    "<li>Numerical tests involving equality and inequality, greater than and\n",
    "less than, greater than or equal to, and less than or equal to</li>\n",
    "<li>Tests using the and keyword and the or keyword</li>\n",
    "<li>Test whether an item is in a list</li>\n",
    "<li>Test whether an item is not in a list</li>"
   ]
  },
  {
   "cell_type": "code",
   "execution_count": 3,
   "metadata": {},
   "outputs": [
    {
     "name": "stdout",
     "output_type": "stream",
     "text": [
      "b equal to 200\n",
      "b equal to 200\n",
      "b is not equal to a\n",
      "UserName is equal to usama\n",
      "yes\n",
      "yes\n",
      "yes\n",
      "yes\n",
      "bes\n",
      "yes\n",
      "list_one is list_two\n",
      "list_one is not list_two\n"
     ]
    }
   ],
   "source": [
    "%run ./conditional_tests.py\n",
    "import conditional_tests as ct\n",
    "ct.abc()"
   ]
  },
  {
   "cell_type": "markdown",
   "metadata": {},
   "source": [
    "<b>5-3. Alien Colors #1: Imagine an alien was just shot down in a game. Create a\n",
    "variable called alien_color and assign it a value of 'green', 'yellow', or 'red'.</b>"
   ]
  },
  {
   "cell_type": "markdown",
   "metadata": {},
   "source": [
    "<li>Write an if statement to test whether the alien’s color is green. If it is, print\n",
    "a message that the player just earned 5 points.</li>"
   ]
  },
  {
   "cell_type": "code",
   "execution_count": 4,
   "metadata": {},
   "outputs": [
    {
     "name": "stdout",
     "output_type": "stream",
     "text": [
      "the player just earned 5 points\n"
     ]
    }
   ],
   "source": [
    "alien_color='yellow'\n",
    "count=5\n",
    "if alien_color==\"yellow\":\n",
    "    print( f'the player just earned {count} points')     \n"
   ]
  },
  {
   "cell_type": "markdown",
   "metadata": {},
   "source": [
    "<li>Write one version of this program that passes the if test and another that\n",
    "fails. (The version that fails will have no output.)</li>"
   ]
  },
  {
   "cell_type": "code",
   "execution_count": 5,
   "metadata": {},
   "outputs": [],
   "source": [
    "alien_color='yellow'\n",
    "count=5\n",
    "if alien_color!=\"yellow\":\n",
    "    print(\"\")"
   ]
  },
  {
   "cell_type": "markdown",
   "metadata": {},
   "source": [
    "<b>5-4. Alien Colors #2: Choose a color for an alien as you did in Exercise 5-3, and\n",
    "write an if-else chain.</b>"
   ]
  },
  {
   "cell_type": "markdown",
   "metadata": {},
   "source": [
    "<li>If the alien’s color is green, print a statement that the player just earned\n",
    "5 points for shooting the alien</li>\n",
    "<li>If the alien’s color isn’t green, print a statement that the player just earned\n",
    "10 points.</li>"
   ]
  },
  {
   "cell_type": "code",
   "execution_count": 6,
   "metadata": {},
   "outputs": [
    {
     "name": "stdout",
     "output_type": "stream",
     "text": [
      "that the player just earned 5 points.\n"
     ]
    }
   ],
   "source": [
    "alien_color='yellow'\n",
    "count=5\n",
    "if alien_color==\"yellow\":\n",
    "    print(f'that the player just earned {count} points.') \n",
    "else:\n",
    "        print(f'that the player just earned {count+count} points.') \n",
    "\n"
   ]
  },
  {
   "cell_type": "markdown",
   "metadata": {},
   "source": [
    "<li>Write one version of this program that runs the if block and another that\n",
    "runs the else block.</li>"
   ]
  },
  {
   "cell_type": "code",
   "execution_count": 7,
   "metadata": {},
   "outputs": [
    {
     "name": "stdout",
     "output_type": "stream",
     "text": [
      "a and b are equal\n"
     ]
    }
   ],
   "source": [
    "a = 33\n",
    "b = 33\n",
    "if b > a:\n",
    "    print(\"b is greater than a\")\n",
    "elif a == b:\n",
    "    print(\"a and b are equal\")"
   ]
  },
  {
   "cell_type": "markdown",
   "metadata": {},
   "source": [
    "<b>5-5. Alien Colors #3: Turn your if-else chain from Exercise 5-4 into an if-elifelse chain</b>"
   ]
  },
  {
   "cell_type": "markdown",
   "metadata": {},
   "source": [
    "<li>If the alien is green, print a message that the player earned 5 points.\n",
    "</li>"
   ]
  },
  {
   "cell_type": "code",
   "execution_count": 8,
   "metadata": {},
   "outputs": [
    {
     "name": "stdout",
     "output_type": "stream",
     "text": [
      "that the player earned 5 points\n"
     ]
    }
   ],
   "source": [
    "alien='green'\n",
    "if alien==alien:\n",
    "    print('that the player earned 5 points')"
   ]
  },
  {
   "cell_type": "markdown",
   "metadata": {},
   "source": [
    "<li>If the alien is yellow, print a message that the player earned 10 points</li>"
   ]
  },
  {
   "cell_type": "code",
   "execution_count": 9,
   "metadata": {},
   "outputs": [
    {
     "name": "stdout",
     "output_type": "stream",
     "text": [
      "that the player earned 10 points\n"
     ]
    }
   ],
   "source": [
    "alien='yellow'\n",
    "if alien==alien:\n",
    "    print('that the player earned 10 points')"
   ]
  },
  {
   "cell_type": "markdown",
   "metadata": {},
   "source": [
    "<li>If the alien is red, print a message that the player earned 15 points.</li>"
   ]
  },
  {
   "cell_type": "code",
   "execution_count": 10,
   "metadata": {},
   "outputs": [
    {
     "name": "stdout",
     "output_type": "stream",
     "text": [
      "that the player earned 15 points\n"
     ]
    }
   ],
   "source": [
    "alien='red'\n",
    "if alien==alien:\n",
    "    print('that the player earned 15 points')"
   ]
  },
  {
   "cell_type": "markdown",
   "metadata": {},
   "source": [
    "<li>Write three versions of this program, making sure each message is printed\n",
    "for the appropriate color alien.</li>"
   ]
  },
  {
   "cell_type": "code",
   "execution_count": 11,
   "metadata": {},
   "outputs": [
    {
     "name": "stdout",
     "output_type": "stream",
     "text": [
      "that the player earned 5 points\n",
      "that the player earned 10 points\n",
      "that the player earned 15 points\n"
     ]
    }
   ],
   "source": [
    "alien='green'\n",
    "if alien==alien:\n",
    "    print('that the player earned 5 points')\n",
    "    \n",
    "alien='yellow'\n",
    "if alien==alien:\n",
    "    print('that the player earned 10 points')    \n",
    "    \n",
    "alien='red'\n",
    "if alien==alien:\n",
    "    print('that the player earned 15 points')        "
   ]
  },
  {
   "cell_type": "markdown",
   "metadata": {},
   "source": [
    "<b>5-6. Stages of Life: Write an if-elif-else chain that determines a person’s\n",
    "stage of life. Set a value for the variable age, and then:</b>"
   ]
  },
  {
   "cell_type": "markdown",
   "metadata": {},
   "source": [
    "<li>If the person is less than 2 years old, print a message that the person is\n",
    "a baby</li>"
   ]
  },
  {
   "cell_type": "code",
   "execution_count": 12,
   "metadata": {},
   "outputs": [
    {
     "name": "stdout",
     "output_type": "stream",
     "text": [
      "enter age1\n",
      "the person is a baby\n"
     ]
    }
   ],
   "source": [
    "age=int(input('enter age'))\n",
    "if age<2:\n",
    "    print(\"the person is a baby\")"
   ]
  },
  {
   "cell_type": "markdown",
   "metadata": {},
   "source": [
    "<li>If the person is at least 2 years old but less than 4, print a message that\n",
    "the person is a toddler</li>"
   ]
  },
  {
   "cell_type": "code",
   "execution_count": 13,
   "metadata": {},
   "outputs": [
    {
     "name": "stdout",
     "output_type": "stream",
     "text": [
      "enter age3\n",
      "the person is a tolder\n"
     ]
    }
   ],
   "source": [
    "age=int(input('enter age'))\n",
    "if age>2 and age<4:\n",
    "    print(\"the person is a tolder\")"
   ]
  },
  {
   "cell_type": "markdown",
   "metadata": {},
   "source": [
    "<li>If the person is at least 4 years old but less than 13, print a message that\n",
    "the person is a kid.</li>"
   ]
  },
  {
   "cell_type": "code",
   "execution_count": 14,
   "metadata": {},
   "outputs": [
    {
     "name": "stdout",
     "output_type": "stream",
     "text": [
      "enter age5\n",
      "the person is kid\n"
     ]
    }
   ],
   "source": [
    "age=int(input('enter age'))\n",
    "if age>4 and age<13:\n",
    "    print(\"the person is kid\")"
   ]
  },
  {
   "cell_type": "markdown",
   "metadata": {},
   "source": [
    "<li>If the person is at least 13 years old but less than 20, print a message that\n",
    "the person is a teenager</li>"
   ]
  },
  {
   "cell_type": "code",
   "execution_count": 15,
   "metadata": {},
   "outputs": [
    {
     "name": "stdout",
     "output_type": "stream",
     "text": [
      "enter age15\n",
      "the person is teenager\n"
     ]
    }
   ],
   "source": [
    "age=int(input('enter age'))\n",
    "if age>13 and age<20:\n",
    "    print(\"the person is teenager\")"
   ]
  },
  {
   "cell_type": "markdown",
   "metadata": {},
   "source": [
    "<li>If the person is at least 20 years old but less than 65, print a message that\n",
    "the person is an adult</li>"
   ]
  },
  {
   "cell_type": "code",
   "execution_count": 16,
   "metadata": {},
   "outputs": [
    {
     "name": "stdout",
     "output_type": "stream",
     "text": [
      "enter age45\n",
      "the person is adult\n"
     ]
    }
   ],
   "source": [
    "age=int(input('enter age'))\n",
    "if age>20 and age<65:\n",
    "    print(\"the person is adult\")"
   ]
  },
  {
   "cell_type": "markdown",
   "metadata": {},
   "source": [
    "<li>If the person is age 65 or older, print a message that the person is an\n",
    "elder.</li>"
   ]
  },
  {
   "cell_type": "code",
   "execution_count": 19,
   "metadata": {},
   "outputs": [
    {
     "name": "stdout",
     "output_type": "stream",
     "text": [
      "enter age65\n",
      "the person is older\n"
     ]
    }
   ],
   "source": [
    "age=int(input('enter age'))\n",
    "if age==65:\n",
    "    print(\"the person is older\")"
   ]
  },
  {
   "cell_type": "markdown",
   "metadata": {},
   "source": [
    "<b>5-7. Favorite Fruit: Make a list of your favorite fruits, and then write a series of\n",
    "independent if statements that check for certain fruits in your list.</b>"
   ]
  },
  {
   "cell_type": "markdown",
   "metadata": {},
   "source": [
    "<li>Make a list of your three favorite fruits and call it favorite_fruits</li>"
   ]
  },
  {
   "cell_type": "code",
   "execution_count": 20,
   "metadata": {},
   "outputs": [],
   "source": [
    "favorite_fruits=['apple','banana','mango','orange','graps']"
   ]
  },
  {
   "cell_type": "markdown",
   "metadata": {},
   "source": [
    "<li>Write five if statements. Each should check whether a certain kind of fruit\n",
    "is in your list. If the fruit is in your list, the if block should print a statement,\n",
    "such as You really like bananas!</li>"
   ]
  },
  {
   "cell_type": "code",
   "execution_count": 21,
   "metadata": {},
   "outputs": [
    {
     "name": "stdout",
     "output_type": "stream",
     "text": [
      "enter youre favorite fruite\n"
     ]
    }
   ],
   "source": [
    "userInpute=input(\"enter youre favorite fruite\")\n",
    "if userInpute in favorite_fruits:\n",
    "    print('you really like bananas')"
   ]
  },
  {
   "cell_type": "markdown",
   "metadata": {},
   "source": [
    "<b>5-8. Hello Admin: Make a list of five or more usernames, including the name\n",
    "'admin'. Imagine you are writing code that will print a greeting to each user\n",
    "after they log in to a website. Loop through the list, and print a greeting to\n",
    "each user:</b>"
   ]
  },
  {
   "cell_type": "markdown",
   "metadata": {},
   "source": [
    "<li>If the username is 'admin', print a special greeting, such as Hello admin,\n",
    "would you like to see a status report?</li>\n",
    "<li>Otherwise, print a generic greeting, such as Hello Eric, thank you for logging in again.</li>"
   ]
  },
  {
   "cell_type": "code",
   "execution_count": 22,
   "metadata": {},
   "outputs": [
    {
     "name": "stdout",
     "output_type": "stream",
     "text": [
      " Hello noman\n",
      " Hello affan\n",
      " Hello hassan\n",
      " Hello adnan\n",
      " Hello jhanzaib\n",
      " Hello admin would you like to see a status report?\n"
     ]
    }
   ],
   "source": [
    "usernames=['noman','affan','hassan','adnan','jhanzaib','admin']\n",
    "for i in usernames:\n",
    "    if i =='admin':\n",
    "        print(' Hello admin would you like to see a status report?')\n",
    "    else:\n",
    "        print(f' Hello {i}')\n"
   ]
  },
  {
   "cell_type": "markdown",
   "metadata": {},
   "source": [
    "<b>5-9. No Users: Add an if test to hello_admin.py to make sure the list of users is\n",
    "not empty</b>"
   ]
  },
  {
   "cell_type": "markdown",
   "metadata": {},
   "source": [
    "<li>If the list is empty, print the message We need to find some users!</li>\n",
    "<li>Remove all of the usernames from your list, and make sure the correct\n",
    "message is printed.</li>"
   ]
  },
  {
   "cell_type": "code",
   "execution_count": 23,
   "metadata": {},
   "outputs": [
    {
     "name": "stdout",
     "output_type": "stream",
     "text": [
      "We need to find some users!\n"
     ]
    }
   ],
   "source": [
    "usernames=[]\n",
    "if usernames==[]:\n",
    "    print('We need to find some users!')\n"
   ]
  },
  {
   "cell_type": "markdown",
   "metadata": {},
   "source": [
    "<b>5-10. Checking Usernames: Do the following to create a program that simulates\n",
    "how websites ensure that everyone has a unique username.</b>"
   ]
  },
  {
   "cell_type": "markdown",
   "metadata": {},
   "source": [
    "<li>Make a list of five or more usernames called current_users.</li>\n",
    "<li>Make another list of five usernames called new_users. Make sure one or\n",
    "two of the new usernames are also in the current_users list.</li>\n",
    "<li>Loop through the new_users list to see if each new username has already\n",
    "been used. If it has, print a message that the person will need to enter a\n",
    "new username. If a username has not been used, print a message saying\n",
    "that the username is available.</li>\n",
    "<li>Make sure your comparison is case insensitive. If 'John' has been used,\n",
    "'JOHN' should not be accepted.</li>"
   ]
  },
  {
   "cell_type": "code",
   "execution_count": 24,
   "metadata": {},
   "outputs": [
    {
     "name": "stdout",
     "output_type": "stream",
     "text": [
      "the username is available\n",
      "the username is available\n",
      "the username is available\n",
      "the username is available\n",
      "need to enter a new username\n",
      "need to enter a new username\n"
     ]
    }
   ],
   "source": [
    "current_users=['noman','affan','hassan','JHON','adnan','jhanzaib','admin']\n",
    "new_users=['usman','manan','ahmed','jhon','affan','adnan']\n",
    "\n",
    "for i in new_users:\n",
    "    if i in current_users:\n",
    "        print(\"need to enter a new username\")\n",
    "    else:\n",
    "        print(\"the username is available\")\n"
   ]
  },
  {
   "cell_type": "markdown",
   "metadata": {},
   "source": [
    "<b>5-11. Ordinal Numbers: Ordinal numbers indicate their position in a list, such\n",
    "as 1st or 2nd. Most ordinal numbers end in th, except 1, 2, and 3.</b>"
   ]
  },
  {
   "cell_type": "markdown",
   "metadata": {},
   "source": [
    "<li>Store the numbers 1 through 9 in a list</li>\n",
    "<li>Loop through the list</li>\n",
    "<li>Use an if-elif-else chain inside the loop to print the proper ordinal ending for each number. Your output should read \"1st 2nd 3rd 4th 5th 6th\n",
    "7th 8th 9th\", and each result should be on a separate line.</li>"
   ]
  },
  {
   "cell_type": "code",
   "execution_count": 25,
   "metadata": {},
   "outputs": [
    {
     "name": "stdout",
     "output_type": "stream",
     "text": [
      "1st\n",
      "2nd\n",
      "3rd\n",
      "4th\n",
      "5th\n",
      "6th\n",
      "7th\n",
      "8th\n",
      "9th\n"
     ]
    }
   ],
   "source": [
    "num=[1,2,3,4,5,6,7,8,9]\n",
    "for i in num:\n",
    "    if i ==1:\n",
    "        print('1st')\n",
    "    elif i==2:\n",
    "        print('2nd')\n",
    "    elif i==3:\n",
    "        print('3rd')\n",
    "    elif i==4:\n",
    "        print('4th') \n",
    "    elif i==5:\n",
    "        print('5th')\n",
    "    elif i==6:\n",
    "        print('6th')\n",
    "    elif i==7:\n",
    "        print('7th')    \n",
    "    elif i==8:\n",
    "        print('8th')    \n",
    "    else:\n",
    "        print('9th')"
   ]
  }
 ],
 "metadata": {
  "kernelspec": {
   "display_name": "Python 3",
   "language": "python",
   "name": "python3"
  },
  "language_info": {
   "codemirror_mode": {
    "name": "ipython",
    "version": 3
   },
   "file_extension": ".py",
   "mimetype": "text/x-python",
   "name": "python",
   "nbconvert_exporter": "python",
   "pygments_lexer": "ipython3",
   "version": "3.8.5"
  }
 },
 "nbformat": 4,
 "nbformat_minor": 4
}
