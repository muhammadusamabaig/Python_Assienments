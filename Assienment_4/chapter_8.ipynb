{
 "cells": [
  {
   "cell_type": "markdown",
   "metadata": {},
   "source": [
    "# Chapter 8 Functions"
   ]
  },
  {
   "cell_type": "markdown",
   "metadata": {},
   "source": [
    "<b>8-1. Message: Write a function called display_message() that prints one sentence telling everyone what you are learning about in this chapter. Call the\n",
    "function, and make sure the message displays correctly.</b>"
   ]
  },
  {
   "cell_type": "code",
   "execution_count": 1,
   "metadata": {},
   "outputs": [
    {
     "name": "stdout",
     "output_type": "stream",
     "text": [
      "what you are learning about in this chapter\n"
     ]
    }
   ],
   "source": [
    "def display_message():\n",
    "    print('what you are learning about in this chapter')\n",
    "display_message()    \n",
    "    "
   ]
  },
  {
   "cell_type": "markdown",
   "metadata": {},
   "source": [
    "<b>8-2. Favorite Book: Write a function called favorite_book() that accepts one\n",
    "parameter, title. The function should print a message, such as One of my\n",
    "favorite books is Alice in Wonderland. Call the function, making sure to\n",
    "include a book title as an argument in the function call.</b>"
   ]
  },
  {
   "cell_type": "code",
   "execution_count": 2,
   "metadata": {},
   "outputs": [
    {
     "name": "stdout",
     "output_type": "stream",
     "text": [
      "my favorite books is english in Wonderland.\n"
     ]
    }
   ],
   "source": [
    "def favorite_book(title):\n",
    "    print(f'my favorite books is {title} in Wonderland.')\n",
    "favorite_book('english')    "
   ]
  },
  {
   "cell_type": "markdown",
   "metadata": {},
   "source": [
    "<b>8-3. T-Shirt: Write a function called make_shirt() that accepts a size and the\n",
    "text of a message that should be printed on the shirt. The function should print\n",
    "a sentence summarizing the size of the shirt and the message printed on it.\n",
    "Call the function once using positional arguments to make a shirt. Call the\n",
    "function a second time using keyword arguments</b>"
   ]
  },
  {
   "cell_type": "code",
   "execution_count": 3,
   "metadata": {},
   "outputs": [
    {
     "name": "stdout",
     "output_type": "stream",
     "text": [
      "size : 77\n",
      "messeg is : nknksnknksdn\n",
      "size : 131\n",
      "messeg is : cldinekfnmdckdnckd\n"
     ]
    }
   ],
   "source": [
    "def make_shirt(messeg,size):\n",
    "               print(f'size : {size}\\nmesseg is : {messeg}')\n",
    "make_shirt(\"nknksnknksdn\",77) \n",
    "make_shirt(size=131,messeg=\"cldinekfnmdckdnckd\")"
   ]
  },
  {
   "cell_type": "markdown",
   "metadata": {},
   "source": [
    "<b>8-4. Large Shirts: Modify the make_shirt() function so that shirts are large\n",
    "by default with a message that reads I love Python. Make a large shirt and a\n",
    "medium shirt with the default message, and a shirt of any size with a different\n",
    "message</b>"
   ]
  },
  {
   "cell_type": "code",
   "execution_count": 4,
   "metadata": {},
   "outputs": [
    {
     "name": "stdout",
     "output_type": "stream",
     "text": [
      "size : small\n",
      "messeg is : I love Javascript\n"
     ]
    }
   ],
   "source": [
    "def make_shirt(messeg='I love Python.',size=\"large\"):\n",
    "               print(f'size : {size}\\nmesseg is : {messeg}')\n",
    "make_shirt(\"I love Javascript\",\"small\") \n"
   ]
  },
  {
   "cell_type": "markdown",
   "metadata": {},
   "source": [
    "<b>5. Cities: Write a function called describe_city() that accepts the name of\n",
    "a city and its country. The function should print a simple sentence, such as\n",
    "Reykjavik is in Iceland. Give the parameter for the country a default value.\n",
    "Call your function for three different cities, at least one of which is not in the\n",
    "default country.</b>"
   ]
  },
  {
   "cell_type": "code",
   "execution_count": 5,
   "metadata": {},
   "outputs": [
    {
     "name": "stdout",
     "output_type": "stream",
     "text": [
      "riyaz is in saudia\n",
      "manchister is in england\n",
      "islamabad is in pakistan\n"
     ]
    }
   ],
   "source": [
    "def describe_city(city=\"karachi\",country=\"pakistan\"):\n",
    "    print(f'{city} is in {country}')\n",
    "describe_city('riyaz','saudia')   \n",
    "describe_city('manchister','england')   \n",
    "describe_city('islamabad','pakistan')   \n"
   ]
  },
  {
   "cell_type": "markdown",
   "metadata": {},
   "source": [
    "<b>8-6. City Names: Write a function called city_country() that takes in the name\n",
    "of a city and its country. The function should return a string formatted like this:</b>"
   ]
  },
  {
   "cell_type": "markdown",
   "metadata": {},
   "source": [
    "<li>\"Santiago, Chile\"\n",
    "</li>\n",
    "<li>Call your function with at least three city-country pairs, and print the value\n",
    "that’s returned.</li>"
   ]
  },
  {
   "cell_type": "code",
   "execution_count": 6,
   "metadata": {},
   "outputs": [
    {
     "name": "stdout",
     "output_type": "stream",
     "text": [
      "\"Andorra la Vella,Andorra\"\n",
      "\"Luanda,Angola\"\n",
      "\"Buenos Aires,Argentina\"\n"
     ]
    }
   ],
   "source": [
    "def city_country(city,country):\n",
    "    print(f\"{city},{country}\")\n",
    "city_country('\"Andorra la Vella','Andorra\"') \n",
    "city_country('\"Luanda','Angola\"')\n",
    "city_country('\"Buenos Aires','Argentina\"')"
   ]
  },
  {
   "cell_type": "markdown",
   "metadata": {},
   "source": [
    "<b>8-7. Album: Write a function called make_album() that builds a dictionary\n",
    "describing a picture album. The function should take in an artist name and an\n",
    "album title, and it should return a dictionary containing these two pieces of\n",
    "information. Use the function to make three dictionaries representing different\n",
    "albums. Print each return value to show that the dictionaries are storing the\n",
    "album information correctly.</b>\n"
   ]
  },
  {
   "cell_type": "markdown",
   "metadata": {},
   "source": [
    "<b>Add an optional parameter to make_album() that allows you to store the\n",
    "number of tracks on an album. If the calling line includes a value for the number of tracks, add that value to the album’s dictionary. Make at least one new\n",
    "function call that includes the number of tracks on an album.</b>\n"
   ]
  },
  {
   "cell_type": "code",
   "execution_count": 7,
   "metadata": {},
   "outputs": [
    {
     "name": "stdout",
     "output_type": "stream",
     "text": [
      "{'artist_name': 'usama', 'AlbumName': 'mariage'}\n",
      "{'artist_name': 'adnan', 'AlbumName': 'birthday'}\n",
      "{'artist_name': 'noman', 'AlbumName': 'picnic'}\n",
      "{'artist_name': 'hassan', 'AlbumName': 'valima', 'Tracks': 20}\n",
      "{'artist_name': 'noman', 'AlbumName': 'picnic', 'Tracks': 33}\n"
     ]
    }
   ],
   "source": [
    "info={}\n",
    "def make_album(artistName,AlbumName,tracks=0):\n",
    "    info['artist_name']=artistName\n",
    "    info['AlbumName']=AlbumName\n",
    "    if tracks!=0:\n",
    "        info['Tracks']=tracks\n",
    "    return info\n",
    "picInfo=make_album('usama','mariage')  \n",
    "print(picInfo)\n",
    "picInfo=make_album('adnan','birthday')  \n",
    "print(picInfo)\n",
    "picInfo=make_album('noman','picnic')  \n",
    "print(picInfo)\n",
    "\n",
    "\n",
    "picInfo=make_album('hassan','valima',20)  \n",
    "print(picInfo)\n",
    "picInfo=make_album('noman','picnic',33)  \n",
    "print(picInfo)"
   ]
  },
  {
   "cell_type": "markdown",
   "metadata": {},
   "source": [
    "<b>8-8. User Albums: Start with your program from Exercise 8-7. Write a while\n",
    "loop that allows users to enter an album’s artist and title. Once you have that\n",
    "information, call make_album() with the user’s input and print the dictionary\n",
    "that’s created. Be sure to include a quit value in the while loop.</b>"
   ]
  },
  {
   "cell_type": "code",
   "execution_count": null,
   "metadata": {},
   "outputs": [
    {
     "name": "stdout",
     "output_type": "stream",
     "text": [
      "enter quit in name textfield\n"
     ]
    }
   ],
   "source": [
    "record={}\n",
    "print('enter quit in name textfield')\n",
    "flag=True\n",
    "def make_album(nameInpute,titleInpute):\n",
    "    record['name']=nameInpute\n",
    "    record['title']=titleInpute\n",
    "    print(f\"name : {record['name']}\\ntitle : {record['title']}\")\n",
    "while flag:\n",
    "    titleInpute=input('enter a title')\n",
    "    nameInpute=input('enter a name')\n",
    "\n",
    "    if nameInpute=='quit':\n",
    "        flag=False\n",
    "    else:\n",
    "        make_album(nameInpute,titleInpute)\n",
    "    "
   ]
  },
  {
   "cell_type": "markdown",
   "metadata": {},
   "source": [
    "<b>8-9. Magicians: Make a list of magician’s names. Pass the list to a function\n",
    "called show_magicians(), which prints the name of each magician in the list<b/>"
   ]
  },
  {
   "cell_type": "code",
   "execution_count": null,
   "metadata": {},
   "outputs": [],
   "source": [
    "magicians=['jhon','peter','alis','clark']\n",
    "def show_magicians(magList):\n",
    "    for i in magList:\n",
    "        print(i)\n",
    "show_magicians(magicians[:])    "
   ]
  },
  {
   "cell_type": "markdown",
   "metadata": {},
   "source": [
    "<b>8-10. Great Magicians: Start with a copy of your program from Exercise 8-9.\n",
    "Write a function called make_great() that modifies the list of magicians by adding the phrase the Great to each magician’s name. Call show_magicians() to\n",
    "see that the list has actually been modified.</b>"
   ]
  },
  {
   "cell_type": "code",
   "execution_count": null,
   "metadata": {},
   "outputs": [],
   "source": [
    "magicians=['jhon','peter','alis','clark']\n",
    "updatedList=[]\n",
    "def show_magicians(magList):\n",
    "    for i,x in enumerate( magList):\n",
    "        magicians[i]=x+\" Greate\"\n",
    "    print(magicians)   \n",
    "show_magicians(magicians[:]) \n"
   ]
  },
  {
   "cell_type": "markdown",
   "metadata": {},
   "source": [
    "<b>8-11. Unchanged Magicians: Start with your work from Exercise 8-10. Call the\n",
    "function make_great() with a copy of the list of magicians’ names. Because the\n",
    "original list will be unchanged, return the new list and store it in a separate list.\n",
    "Call show_magicians() with each list to show that you have one list of the original names and one list with the Great added to each magician’s name.</b>"
   ]
  },
  {
   "cell_type": "code",
   "execution_count": null,
   "metadata": {},
   "outputs": [],
   "source": [
    "magicians=['jhon','peter','alis','clark']\n",
    "updatedList=[]\n",
    "def show_magicians(magList):\n",
    "    for i in magList:\n",
    "        updatedList.append(i+' Great')\n",
    "    return(updatedList)    \n",
    "modifiedList=show_magicians(magicians[:]) \n",
    "print('original List :',magicians)\n",
    "print('modified List :',modifiedList)\n",
    "    "
   ]
  },
  {
   "cell_type": "markdown",
   "metadata": {},
   "source": [
    "<b>8-12. Sandwiches: Write a function that accepts a list of items a person wants\n",
    "on a sandwich. The function should have one parameter that collects as many\n",
    "items as the function call provides, and it should print a summary of the sandwich that is being ordered. Call the function three times, using a different number of arguments each time.</b>"
   ]
  },
  {
   "cell_type": "code",
   "execution_count": null,
   "metadata": {},
   "outputs": [],
   "source": [
    "def sandwich(*samry):\n",
    "    for i in samry:\n",
    "        print(i,end='\\n\\n')\n",
    "sandwich('Chicken Sandwiches','Cheese Sandwiches','Pork Sandwiches','Turkey Sandwiches') \n",
    "sandwich('Tuna Sandwiches','Plain','Pinwheel')\n",
    "sandwich('Chicken Sandwiches','Cheese Sandwiches','Pork Sandwiches','Turkey Sandwiches') \n"
   ]
  },
  {
   "cell_type": "markdown",
   "metadata": {},
   "source": [
    "<b>8-13. User Profile: Start with a copy of user_profile.py from page 153. Build\n",
    "a profile of yourself by calling build_profile(), using your first and last names\n",
    "and three other key-value pairs that describe you.</b>"
   ]
  },
  {
   "cell_type": "code",
   "execution_count": null,
   "metadata": {},
   "outputs": [],
   "source": [
    "%run userProfile.py\n",
    "import userProfile as up\n",
    "up.user_profile('Muhammad Usama Baig','Muhammad Irfan Baig','Web Developer','fortewize Solutions')"
   ]
  },
  {
   "cell_type": "markdown",
   "metadata": {},
   "source": [
    "<b>8-14. Cars: Write a function that stores information about a car in a dictionary. The function should always receive a manufacturer and a model name. It\n",
    "should then accept an arbitrary number of keyword arguments. Call the function with the required information and two other name-value pairs, such as a\n",
    "color or an optional feature. Your function should work for a call like this one:</b>\n"
   ]
  },
  {
   "cell_type": "code",
   "execution_count": null,
   "metadata": {},
   "outputs": [],
   "source": [
    "carInfo=[]\n",
    "def sandwich(**samry):\n",
    "    for i in samry.items():\n",
    "        print(i)\n",
    "    carInfo.append(samry)\n",
    "sandwich(manufacturer='toyota',model='1020',color='red',speed='20000') \n",
    "print('all records is')\n",
    "carInfo"
   ]
  },
  {
   "cell_type": "markdown",
   "metadata": {},
   "source": [
    "<b>8-15. Printing Models: Put the functions for the example print_models.py in a\n",
    "separate file called printing_functions.py. Write an import statement at the top\n",
    "of print_models.py, and modify the file to use the imported functions.</b>"
   ]
  },
  {
   "cell_type": "code",
   "execution_count": null,
   "metadata": {},
   "outputs": [],
   "source": [
    "%run userProfile.py\n",
    "import userProfile as usrprofile\n",
    "magicians=['jhon','peter','alis','clark']\n",
    "usrprofile.show_magicians(magicians[:])   "
   ]
  },
  {
   "cell_type": "markdown",
   "metadata": {},
   "source": [
    "<b>8-16. Imports: Using a program you wrote that has one function in it, store that\n",
    "function in a separate file. Import the function into your main program file, and\n",
    "call the function using each of these approaches:</b>"
   ]
  },
  {
   "cell_type": "code",
   "execution_count": null,
   "metadata": {},
   "outputs": [],
   "source": [
    "import userProfile as usrprofile\n",
    "from userProfile import show_magicians as usrprofile\n",
    "usrprofile.show_magicians(magicians[:])   "
   ]
  },
  {
   "cell_type": "code",
   "execution_count": null,
   "metadata": {},
   "outputs": [],
   "source": []
  }
 ],
 "metadata": {
  "kernelspec": {
   "display_name": "Python 3",
   "language": "python",
   "name": "python3"
  },
  "language_info": {
   "codemirror_mode": {
    "name": "ipython",
    "version": 3
   },
   "file_extension": ".py",
   "mimetype": "text/x-python",
   "name": "python",
   "nbconvert_exporter": "python",
   "pygments_lexer": "ipython3",
   "version": "3.8.5"
  }
 },
 "nbformat": 4,
 "nbformat_minor": 4
}
