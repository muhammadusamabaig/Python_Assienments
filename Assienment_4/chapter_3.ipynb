{
 "cells": [
  {
   "cell_type": "markdown",
   "metadata": {},
   "source": [
    "# Chapter 3 List\n"
   ]
  },
  {
   "cell_type": "markdown",
   "metadata": {},
   "source": [
    "<b>3-1. Names: Store the names of a few of your friends in a list called names. Print\n",
    "each person’s name by accessing each element in the list, one at a time.</b>"
   ]
  },
  {
   "cell_type": "code",
   "execution_count": 1,
   "metadata": {},
   "outputs": [
    {
     "name": "stdout",
     "output_type": "stream",
     "text": [
      "noman\n",
      "affan\n",
      "jhanzaib\n",
      "usman\n",
      "mannan\n"
     ]
    }
   ],
   "source": [
    "friends=['noman','affan','jhanzaib','usman','mannan']\n",
    "for i in friends:\n",
    "    print(i)"
   ]
  },
  {
   "cell_type": "markdown",
   "metadata": {},
   "source": [
    "<b>3-2. Greetings: Start with the list you used in Exercise 3-1, but instead of just\n",
    "printing each person’s name, print a message to them. The text of each message should be the same, but each message should be personalized with the\n",
    "person’s name.</b>"
   ]
  },
  {
   "cell_type": "code",
   "execution_count": 2,
   "metadata": {},
   "outputs": [
    {
     "name": "stdout",
     "output_type": "stream",
     "text": [
      "Greetings for noman\n",
      "\n",
      "Greetings for affan\n",
      "\n",
      "Greetings for jhanzaib\n",
      "\n",
      "Greetings for usman\n",
      "\n",
      "Greetings for mannan\n",
      "\n"
     ]
    }
   ],
   "source": [
    "friends=['noman','affan','jhanzaib','usman','mannan']\n",
    "for i in friends:\n",
    "    print('Greetings for '+i+'\\n')"
   ]
  },
  {
   "cell_type": "markdown",
   "metadata": {},
   "source": [
    "<b>3-3. Your Own List: Think of your favorite mode of transportation, such as a\n",
    "motorcycle or a car, and make a list that stores several examples. Use your list\n",
    "to print a series of statements about these items, such as “I would like to own a\n",
    "Honda motorcycle.”</b>"
   ]
  },
  {
   "cell_type": "code",
   "execution_count": 3,
   "metadata": {},
   "outputs": [
    {
     "name": "stdout",
     "output_type": "stream",
     "text": [
      "I would like to own a Honda motorcycle\n",
      "I want Toyota car\n",
      "I go to umrah in cycle\n"
     ]
    }
   ],
   "source": [
    "transports=['Honda motorcycle','Toyota car','cycle','aeroplane']\n",
    "print('I would like to own a '+transports[0])\n",
    "print('I want '+transports[1])\n",
    "print('I go to umrah in '+transports[2])"
   ]
  },
  {
   "cell_type": "markdown",
   "metadata": {},
   "source": [
    "<b>3-4. Guest List: If you could invite anyone, living or deceased, to dinner, who\n",
    "would you invite? Make a list that includes at least three people you’d like to\n",
    "invite to dinner. Then use your list to print a message to each person, inviting\n",
    "them to dinner</b>"
   ]
  },
  {
   "cell_type": "code",
   "execution_count": 4,
   "metadata": {},
   "outputs": [
    {
     "name": "stdout",
     "output_type": "stream",
     "text": [
      "Welcom noman\n",
      "Welcom affan\n",
      "Welcom jhanzaib\n",
      "Welcom usman\n",
      "Welcom mannan\n"
     ]
    }
   ],
   "source": [
    "friends=['noman','affan','jhanzaib','usman','mannan']\n",
    "for i in friends:\n",
    "    print(f'Welcom {i}')"
   ]
  },
  {
   "cell_type": "markdown",
   "metadata": {},
   "source": [
    "<b>3-5. Changing Guest List: You just heard that one of your guests can’t make the\n",
    "dinner, so you need to send out a new set of invitations. You’ll have to think of\n",
    "someone else to invite</b>"
   ]
  },
  {
   "cell_type": "markdown",
   "metadata": {},
   "source": [
    "<ul><li>Start with your program from Exercise 3-4. Add a print statement at the\n",
    "end of your program stating the name of the guest who can’t make it</li></ul"
   ]
  },
  {
   "cell_type": "code",
   "execution_count": 5,
   "metadata": {},
   "outputs": [
    {
     "name": "stdout",
     "output_type": "stream",
     "text": [
      "Welcom noman\n",
      "\n",
      "Welcom affan\n",
      "\n",
      "Welcom jhanzaib\n",
      "\n",
      "Welcom usman\n",
      "\n",
      "Welcom mannan\n",
      "\n",
      "jhanzaib can't make it dinner\n",
      "\n",
      "usman can't make it dinner\n",
      "\n"
     ]
    }
   ],
   "source": [
    "# Start with your program from Exercise 3-4\n",
    "friends=['noman','affan','jhanzaib','usman','mannan']\n",
    "livingFriends=['jhanzaib','usman']\n",
    "for i in friends:\n",
    "    print(f'Welcom {i}\\n')\n",
    "# Add a print statement at the end of your program stating the name of the guest who can’t make it  \n",
    "for i in livingFriends:\n",
    "    if i in friends:\n",
    "        print(i+\" can't make it dinner\\n\")\n",
    "        "
   ]
  },
  {
   "cell_type": "markdown",
   "metadata": {},
   "source": [
    "<li>Modify your list, replacing the name of the guest who can’t make it with\n",
    "the name of the new person you are inviting.</li>"
   ]
  },
  {
   "cell_type": "code",
   "execution_count": 130,
   "metadata": {},
   "outputs": [
    {
     "name": "stdout",
     "output_type": "stream",
     "text": [
      "After remove\n",
      "\n",
      "['noman', 'affan', 'mannan']\n",
      "\n",
      "Update Invitation List\n",
      "\n",
      "['noman', 'affan', 'mannan', 'waleed', 'ahmed', 'jameel']\n"
     ]
    }
   ],
   "source": [
    "newFriends=['waleed','ahmed','jameel']\n",
    "updatedFriend=[]\n",
    "print('After remove\\n')\n",
    "for i in livingFriends:\n",
    "    if i in friends:\n",
    "        friends.remove(i)\n",
    "updatedFriend=friends[:]  \n",
    "print(updatedFriend ,end=\"\\n\\n\" )\n",
    "print('Update Invitation List\\n')\n",
    "for x in newFriends:\n",
    "    updatedFriend.append(x)\n",
    "print(updatedFriend)    "
   ]
  },
  {
   "cell_type": "markdown",
   "metadata": {},
   "source": [
    "<li>3-6. More Guests: You just found a bigger dinner table, so now more space is\n",
    "available. Think of three more guests to invite to dinner</li>"
   ]
  },
  {
   "cell_type": "code",
   "execution_count": 131,
   "metadata": {},
   "outputs": [
    {
     "name": "stdout",
     "output_type": "stream",
     "text": [
      "['noman', 'affan', 'mannan', 'waleed', 'ahmed', 'jameel', 'waleed', 'ahmed', 'jameel']\n",
      "\n",
      "I have found bigger dinner table \n",
      "\n",
      "\n"
     ]
    }
   ],
   "source": [
    "for x in newFriends:\n",
    "    updatedFriend.append(x)\n",
    "print(updatedFriend ,end='\\n\\n')    \n",
    "print('I have found bigger dinner table \\n\\n')\n"
   ]
  },
  {
   "cell_type": "markdown",
   "metadata": {},
   "source": [
    "<li>Use insert() to add one new guest to the beginning of your list</li>"
   ]
  },
  {
   "cell_type": "code",
   "execution_count": 132,
   "metadata": {},
   "outputs": [
    {
     "name": "stdout",
     "output_type": "stream",
     "text": [
      "\"Welcom asad\"\n",
      "\"Welcom noman\"\n",
      "\"Welcom affan\"\n",
      "\"Welcom mannan\"\n",
      "\"Welcom waleed\"\n",
      "\"Welcom rehman\"\n",
      "\"Welcom ahmed\"\n",
      "\"Welcom jameel\"\n",
      "\"Welcom waleed\"\n",
      "\"Welcom ahmed\"\n",
      "\"Welcom jameel\"\n"
     ]
    }
   ],
   "source": [
    "updatedFriend.insert(0,'asad')\n",
    "mid=len(updatedFriend)-1\n",
    "updatedFriend.insert(int(mid/2)+1,'rehman')\n",
    "for i in updatedFriend:\n",
    "    print(f\"\\\"Welcom {i}\\\"\")"
   ]
  },
  {
   "cell_type": "markdown",
   "metadata": {},
   "source": [
    "<b>3-7. Shrinking Guest List: You just found out that your new dinner table won’t\n",
    "arrive in time for the dinner, and you have space for only two guests.</b>"
   ]
  },
  {
   "cell_type": "markdown",
   "metadata": {},
   "source": [
    "<li>Start with your program from Exercise 3-6. Add a new line that prints a\n",
    "message saying that you can invite only two people for dinner</li>"
   ]
  },
  {
   "cell_type": "code",
   "execution_count": 133,
   "metadata": {},
   "outputs": [
    {
     "name": "stdout",
     "output_type": "stream",
     "text": [
      " new dinner table won’t arrive in time for the dinner, and you have space for only two guests\n"
     ]
    }
   ],
   "source": [
    "print(\" new dinner table won’t arrive in time for the dinner, and you have space for only two guests\")   "
   ]
  },
  {
   "cell_type": "markdown",
   "metadata": {},
   "source": [
    "<li>\t Use pop() to remove guests from your list one at a time until only two\n",
    "names remain in your list. Each time you pop a name from your list, print\n",
    "a message to that person letting them know you’re sorry you can’t invite\n",
    "them to dinner</li>"
   ]
  },
  {
   "cell_type": "code",
   "execution_count": 134,
   "metadata": {},
   "outputs": [
    {
     "name": "stdout",
     "output_type": "stream",
     "text": [
      "['asad', 'noman']\n"
     ]
    }
   ],
   "source": [
    "tempraryList=updatedFriend[:]\n",
    "for i in tempraryList:\n",
    "    if (len(updatedFriend)>2):\n",
    "        updatedFriend.pop()\n",
    "print(updatedFriend)        "
   ]
  },
  {
   "cell_type": "markdown",
   "metadata": {},
   "source": [
    "<li>Print a message to each of the two people still on your list, letting them\n",
    "know they’re still invited.</li>"
   ]
  },
  {
   "cell_type": "code",
   "execution_count": 135,
   "metadata": {},
   "outputs": [
    {
     "name": "stdout",
     "output_type": "stream",
     "text": [
      "asad still invited\n",
      "noman still invited\n"
     ]
    }
   ],
   "source": [
    "for i in updatedFriend:\n",
    "    print(f\"{i} still invited\")"
   ]
  },
  {
   "cell_type": "markdown",
   "metadata": {},
   "source": [
    "<li>Use del to remove the last two names from your list, so you have an empty\n",
    "list. Print your list to make sure you actually have an empty list at the end\n",
    "of your program.</li>"
   ]
  },
  {
   "cell_type": "code",
   "execution_count": 136,
   "metadata": {},
   "outputs": [
    {
     "data": {
      "text/plain": [
       "[]"
      ]
     },
     "execution_count": 136,
     "metadata": {},
     "output_type": "execute_result"
    }
   ],
   "source": [
    "del updatedFriend[:]\n",
    "updatedFriend"
   ]
  },
  {
   "cell_type": "markdown",
   "metadata": {},
   "source": [
    "<b>3-8. Seeing the World: Think of at least five places in the world you’d like to\n",
    "visit.</b>"
   ]
  },
  {
   "cell_type": "code",
   "execution_count": 137,
   "metadata": {},
   "outputs": [
    {
     "name": "stdout",
     "output_type": "stream",
     "text": [
      "['turkey', 'saudia', 'shaam', 'misir', 'india']\n"
     ]
    }
   ],
   "source": [
    "countries=['turkey','saudia','shaam','misir','india']\n",
    "# OrignalOrder=countries[:]\n",
    "print(countries)"
   ]
  },
  {
   "cell_type": "markdown",
   "metadata": {},
   "source": [
    "<li>Store the locations in a list. Make sure the list is not in alphabetical order.</li>"
   ]
  },
  {
   "cell_type": "code",
   "execution_count": 138,
   "metadata": {},
   "outputs": [
    {
     "name": "stdout",
     "output_type": "stream",
     "text": [
      "['india', 'misir', 'saudia', 'shaam', 'turkey']\n"
     ]
    }
   ],
   "source": [
    "sortCountries=countries[:]\n",
    "sortCountries.sort()\n",
    "print(sortCountries)"
   ]
  },
  {
   "cell_type": "markdown",
   "metadata": {},
   "source": [
    "<li>Print your list in its original order. Don’t worry about printing the list neatly,\n",
    "just print it as a raw Python list.</li>"
   ]
  },
  {
   "cell_type": "code",
   "execution_count": 139,
   "metadata": {},
   "outputs": [
    {
     "data": {
      "text/plain": [
       "['saudia', 'turkey', 'shaam', 'misir', 'india']"
      ]
     },
     "execution_count": 139,
     "metadata": {},
     "output_type": "execute_result"
    }
   ],
   "source": [
    "OrignalOrder"
   ]
  },
  {
   "cell_type": "markdown",
   "metadata": {},
   "source": [
    "<li>Use sorted() to print your list in alphabetical order without modifying the\n",
    "actual list</li>"
   ]
  },
  {
   "cell_type": "code",
   "execution_count": 140,
   "metadata": {},
   "outputs": [
    {
     "data": {
      "text/plain": [
       "['india', 'misir', 'saudia', 'shaam', 'turkey']"
      ]
     },
     "execution_count": 140,
     "metadata": {},
     "output_type": "execute_result"
    }
   ],
   "source": [
    "SortedCountries=sorted(countries)\n",
    "SortedCountries"
   ]
  },
  {
   "cell_type": "markdown",
   "metadata": {},
   "source": [
    "<li>Show that your list is still in its original order by printing it</li>"
   ]
  },
  {
   "cell_type": "code",
   "execution_count": 141,
   "metadata": {},
   "outputs": [
    {
     "name": "stdout",
     "output_type": "stream",
     "text": [
      "['saudia', 'turkey', 'shaam', 'misir', 'india']\n"
     ]
    }
   ],
   "source": [
    "print(OrignalOrder)"
   ]
  },
  {
   "cell_type": "markdown",
   "metadata": {},
   "source": [
    "<li>\t Use reverse() to change the order of your list. Print the list to show that its\n",
    "order has changed.</li>"
   ]
  },
  {
   "cell_type": "code",
   "execution_count": 142,
   "metadata": {},
   "outputs": [
    {
     "name": "stdout",
     "output_type": "stream",
     "text": [
      "india\n",
      "misir\n",
      "shaam\n",
      "turkey\n",
      "saudia\n"
     ]
    }
   ],
   "source": [
    "temp=OrignalOrder[:]\n",
    "reverseList=reversed(temp)\n",
    "for i in reverseList:\n",
    "    print(i)\n",
    "    "
   ]
  },
  {
   "cell_type": "markdown",
   "metadata": {},
   "source": [
    "<li>Use reverse() to change the order of your list again. Print the list to show\n",
    "it’s back to its original order.</li>"
   ]
  },
  {
   "cell_type": "code",
   "execution_count": 143,
   "metadata": {},
   "outputs": [
    {
     "name": "stdout",
     "output_type": "stream",
     "text": [
      "saudia\n",
      "turkey\n",
      "shaam\n",
      "misir\n",
      "india\n"
     ]
    }
   ],
   "source": [
    "temp=OrignalOrder[:]\n",
    "reversAgain=[]\n",
    "reverseList=reversed(temp)\n",
    "for i in reverseList:\n",
    "    reversAgain.append(i)\n",
    "Reverse_Objt_Array=reversed(reversAgain)\n",
    "for i in Reverse_Objt_Array:\n",
    "    print(i)"
   ]
  },
  {
   "cell_type": "markdown",
   "metadata": {},
   "source": [
    "<li>Use sort() to change your list so it’s stored in alphabetical order. Print the\n",
    "list to show that its order has been changed.</li>"
   ]
  },
  {
   "cell_type": "code",
   "execution_count": 144,
   "metadata": {},
   "outputs": [
    {
     "data": {
      "text/plain": [
       "['india', 'misir', 'saudia', 'shaam', 'turkey']"
      ]
     },
     "execution_count": 144,
     "metadata": {},
     "output_type": "execute_result"
    }
   ],
   "source": [
    "countries.sort()\n",
    "countries"
   ]
  },
  {
   "cell_type": "markdown",
   "metadata": {},
   "source": [
    "<b><li>3-9. Dinner Guests: Working with one of the programs from Exercises 3-4\n",
    "through 3-7 (page 46), use len() to print a message indicating the number\n",
    "of people you are inviting to dinner.</li></b>"
   ]
  },
  {
   "cell_type": "code",
   "execution_count": 145,
   "metadata": {},
   "outputs": [
    {
     "name": "stdout",
     "output_type": "stream",
     "text": [
      "0 number of people you are inviting to dinner.\n"
     ]
    }
   ],
   "source": [
    "print(str(len(updatedFriend))+' number of people you are inviting to dinner.')"
   ]
  },
  {
   "cell_type": "markdown",
   "metadata": {},
   "source": [
    "<b>3-10. Every Function: Think of something you could store in a list. For example,\n",
    "you could make a list of mountains, rivers, countries, cities, languages, or anything else you’d like. Write a program that creates a list containing these items\n",
    "and then uses each function introduced in this chapter at least once.</b>"
   ]
  },
  {
   "cell_type": "code",
   "execution_count": null,
   "metadata": {},
   "outputs": [],
   "source": []
  }
 ],
 "metadata": {
  "kernelspec": {
   "display_name": "Python 3",
   "language": "python",
   "name": "python3"
  },
  "language_info": {
   "codemirror_mode": {
    "name": "ipython",
    "version": 3
   },
   "file_extension": ".py",
   "mimetype": "text/x-python",
   "name": "python",
   "nbconvert_exporter": "python",
   "pygments_lexer": "ipython3",
   "version": "3.8.5"
  }
 },
 "nbformat": 4,
 "nbformat_minor": 4
}
