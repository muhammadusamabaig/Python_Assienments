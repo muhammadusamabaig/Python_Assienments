{
 "cells": [
  {
   "cell_type": "markdown",
   "metadata": {},
   "source": [
    "# Chapter 7 Use Inpute And While Loop"
   ]
  },
  {
   "cell_type": "markdown",
   "metadata": {},
   "source": [
    "<b>7-1. Rental Car: Write a program that asks the user what kind of rental car they\n",
    "would like. Print a message about that car, such as “Let me see if I can find you\n",
    "a Subaru.”</b>"
   ]
  },
  {
   "cell_type": "code",
   "execution_count": null,
   "metadata": {},
   "outputs": [],
   "source": [
    "carInpute=input('what kind of rental car they would like : ')\n",
    "print(f'“Let me see if I can find you a {carInpute}.”')"
   ]
  },
  {
   "cell_type": "markdown",
   "metadata": {},
   "source": [
    "<b>7-2. Restaurant Seating: Write a program that asks the user how many people\n",
    "are in their dinner group. If the answer is more than eight, print a message saying they’ll have to wait for a table. Otherwise, report that their table is ready.</b>"
   ]
  },
  {
   "cell_type": "code",
   "execution_count": null,
   "metadata": {},
   "outputs": [],
   "source": [
    "dinnerTable=int(input('how many people are in their dinner group'))\n",
    "if dinnerTable>8:\n",
    "    print('please wait for a table')\n",
    "else:\n",
    "    print('table is ready')"
   ]
  },
  {
   "cell_type": "markdown",
   "metadata": {},
   "source": [
    "<b>7-3. Multiples of Ten: Ask the user for a number, and then report whether the\n",
    "number is a multiple of 10 or not</b>"
   ]
  },
  {
   "cell_type": "code",
   "execution_count": null,
   "metadata": {},
   "outputs": [],
   "source": [
    "num=int(input('enter a number'))\n",
    "if num%10==0:\n",
    "    print(f'{num} is a multiple of 10')\n",
    "else:\n",
    "    print(f'{num} is not multiple of 10')\n"
   ]
  },
  {
   "cell_type": "markdown",
   "metadata": {},
   "source": [
    "<b>7-4. Pizza Toppings: Write a loop that prompts the user to enter a series of\n",
    "pizza toppings until they enter a 'quit' value. As they enter each topping,\n",
    "print a message saying you’ll add that topping to their pizza.</b>"
   ]
  },
  {
   "cell_type": "code",
   "execution_count": null,
   "metadata": {},
   "outputs": [],
   "source": [
    "flag=True\n",
    "print('Enter \"quit\" for stop this prompt')\n",
    "while flag:\n",
    "    user=input('enter pizza topping')\n",
    "    if user=='quit':\n",
    "        flag=False\n",
    "    else:\n",
    "        print(f'add that topping to their pizza')\n",
    "    "
   ]
  },
  {
   "cell_type": "markdown",
   "metadata": {},
   "source": [
    "<b>7-5. Movie Tickets: A movie theater charges different ticket prices depending on\n",
    "a person’s age. If a person is under the age of 3, the ticket is free; if they are\n",
    "between 3 and 12, the ticket is $10; and if they are over age 12, the ticket is\n",
    "$15. Write a loop in which you ask users their age, and then tell them the cost\n",
    "of their movie ticket.</b>"
   ]
  },
  {
   "cell_type": "code",
   "execution_count": null,
   "metadata": {},
   "outputs": [],
   "source": [
    "flag=True\n",
    "while flag:\n",
    "    user=int(input('enter age'))\n",
    "    if user<3:\n",
    "        print('free')\n",
    "    elif user>3 and user<12:\n",
    "        print('ticket is 10')\n",
    "    elif user>12:\n",
    "        print('ticket is 15')"
   ]
  },
  {
   "cell_type": "markdown",
   "metadata": {},
   "source": [
    "<b>7-8. Deli: Make a list called sandwich_orders and fill it with the names of various sandwiches. Then make an empty list called finished_sandwiches. Loop\n",
    "through the list of sandwich orders and print a message for each order, such\n",
    "as I made your tuna sandwich. As each sandwich is made, move it to the list\n",
    "of finished sandwiches. After all the sandwiches have been made, print a\n",
    "message listing each sandwich that was made</b>"
   ]
  },
  {
   "cell_type": "code",
   "execution_count": null,
   "metadata": {},
   "outputs": [],
   "source": [
    "sandwich_orders=['Beef Sandwiches','Grilled Cheese','Chicken Sandwiches','Pork Sandwiches']\n",
    "finished_sandwiches=[]\n",
    "for i in sandwich_orders:\n",
    "    print(f'I made your tuna {i}')\n",
    "    finished_sandwiches.append(i)\n",
    "    if sandwich_orders==finished_sandwiches:\n",
    "        print('listing each sandwich that was made')\n",
    "        break\n",
    "    "
   ]
  },
  {
   "cell_type": "markdown",
   "metadata": {},
   "source": [
    "<b>7-9. No Pastrami: Using the list sandwich_orders from Exercise 7-8, make sure\n",
    "the sandwich 'pastrami' appears in the list at least three times. Add code\n",
    "near the beginning of your program to print a message saying the deli has\n",
    "run out of pastrami, and then use a while loop to remove all occurrences of\n",
    "'pastrami' from sandwich_orders. Make sure no pastrami sandwiches end up\n",
    "in finished_sandwiches</b>"
   ]
  },
  {
   "cell_type": "code",
   "execution_count": null,
   "metadata": {},
   "outputs": [],
   "source": [
    "sandwich_orders=['pastrami','pastrami','pastrami','Pork Sandwiches']\n",
    "print('deli has run out of pastrami')\n",
    "flag=True\n",
    "while flag:\n",
    "    if 'pastrami' in sandwich_orders:\n",
    "        sandwich_orders.remove('pastrami')\n",
    "    else:\n",
    "        flag=False\n",
    "    finished_sandwiches=sandwich_orders[:]\n",
    "print(finished_sandwiches)    "
   ]
  },
  {
   "cell_type": "markdown",
   "metadata": {},
   "source": [
    "<b>7-10. Dream Vacation: Write a program that polls users about their dream\n",
    "vacation. Write a prompt similar to If you could visit one place in the world,\n",
    "where would you go? Include a block of code that prints the results of the poll.</b>"
   ]
  },
  {
   "cell_type": "code",
   "execution_count": null,
   "metadata": {},
   "outputs": [
    {
     "name": "stdout",
     "output_type": "stream",
     "text": [
      "if you want to exit this progran enter \"quit\" in name textbox\n",
      "\n"
     ]
    }
   ],
   "source": [
    "\n",
    "poll={}\n",
    "print('if you want to exit this progran enter \"quit\" in name textbox\\n')\n",
    "flag=True\n",
    "while flag:\n",
    "    name=input('enter a name')\n",
    "    location=input('enter a location')\n",
    "    if name=='quit':\n",
    "        flag=False\n",
    "    else:\n",
    "        poll[name]=location\n",
    "    \n",
    "print(poll)        \n",
    "    \n",
    "    "
   ]
  },
  {
   "cell_type": "code",
   "execution_count": null,
   "metadata": {},
   "outputs": [],
   "source": []
  }
 ],
 "metadata": {
  "kernelspec": {
   "display_name": "Python 3",
   "language": "python",
   "name": "python3"
  },
  "language_info": {
   "codemirror_mode": {
    "name": "ipython",
    "version": 3
   },
   "file_extension": ".py",
   "mimetype": "text/x-python",
   "name": "python",
   "nbconvert_exporter": "python",
   "pygments_lexer": "ipython3",
   "version": "3.8.5"
  }
 },
 "nbformat": 4,
 "nbformat_minor": 4
}
