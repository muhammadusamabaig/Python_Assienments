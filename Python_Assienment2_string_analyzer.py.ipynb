{
 "cells": [
  {
   "cell_type": "markdown",
   "metadata": {},
   "source": [
    "# Remove Aditional Spaces"
   ]
  },
  {
   "cell_type": "code",
   "execution_count": null,
   "metadata": {},
   "outputs": [],
   "source": [
    "\n",
    "a=\"my name     is muhammad    usama                     baig\"\n",
    "a=list(a)\n",
    "count=0\n",
    "b=[]\n",
    "for i,x in enumerate(a):\n",
    "    if a[i]==' ' and a[i+1]==' ':\n",
    "        \n",
    "            \n",
    "        pass\n",
    "    else:\n",
    "        b.append(x)\n",
    "''.join(b)  "
   ]
  },
  {
   "cell_type": "markdown",
   "metadata": {},
   "source": [
    "# Count Total words withoute Space"
   ]
  },
  {
   "cell_type": "code",
   "execution_count": 1,
   "metadata": {},
   "outputs": [
    {
     "name": "stdout",
     "output_type": "stream",
     "text": [
      "25\n"
     ]
    }
   ],
   "source": [
    "a=\"my name     is muhammad    usama                     baig\"\n",
    "count=0\n",
    "for i,x in enumerate(a):\n",
    "    if a[i]==' ':    \n",
    "        pass\n",
    "    else:\n",
    "        count+=1\n",
    "print(count)"
   ]
  },
  {
   "cell_type": "markdown",
   "metadata": {},
   "source": [
    "# Total Length Of String\n"
   ]
  },
  {
   "cell_type": "code",
   "execution_count": null,
   "metadata": {},
   "outputs": [],
   "source": [
    "a=\"my name ismuhammadusamabaig\"\n",
    "count=0\n",
    "for i,x in enumerate(a):\n",
    "    if a[i]==' ':    \n",
    "        count+=1\n",
    "    else:\n",
    "        count+=1\n",
    "print(count)"
   ]
  },
  {
   "cell_type": "markdown",
   "metadata": {},
   "source": [
    "# Word Searching and Replace word\n"
   ]
  },
  {
   "cell_type": "code",
   "execution_count": 3,
   "metadata": {},
   "outputs": [
    {
     "name": "stdout",
     "output_type": "stream",
     "text": [
      "enter your search wordusama\n",
      "enter your parahhfggusama\n",
      "enter your repnoman\n",
      "\n",
      "repeate 'usama' 1 times in this paragraph:1 hhfggusama\n",
      "hhfggnoman\n"
     ]
    }
   ],
   "source": [
    "a=input(\"enter your search word\")\n",
    "para=input(\"enter your para\")\n",
    "replaceWord=input(\"enter your rep\")\n",
    "count=0\n",
    "lengthOfParameter=len(a)\n",
    "for i,x in enumerate(para):\n",
    "    if(para[i:i+len(a)]==a):\n",
    "        count+=1\n",
    "print(\"\\nrepeate '{1}' {0} times in this paragraph:{0}\".format(count,a),para) \n",
    "replacParagraph=para.replace(a,replaceWord)\n",
    "print(replacParagraph)"
   ]
  },
  {
   "cell_type": "markdown",
   "metadata": {},
   "source": [
    "# Count And Remove Punctuations"
   ]
  },
  {
   "cell_type": "code",
   "execution_count": 33,
   "metadata": {},
   "outputs": [
    {
     "name": "stdout",
     "output_type": "stream",
     "text": [
      "enter your stringsdddd;;;;\n",
      "total punctuation is :4\n",
      "dddd\n"
     ]
    }
   ],
   "source": [
    "punctuations='!#$%&()*+, -./:;<=>?@[\\]^_`{|}~'\n",
    "para=input('enter your strings')\n",
    "count=0\n",
    "for i,x in enumerate(para):\n",
    "    if x in punctuations:\n",
    "        count+=1\n",
    "        para=para.replace(x,'')\n",
    "        \n",
    "print(f'total punctuation is :{count}')\n",
    "print(para)"
   ]
  },
  {
   "cell_type": "code",
   "execution_count": null,
   "metadata": {},
   "outputs": [],
   "source": [
    " "
   ]
  }
 ],
 "metadata": {
  "kernelspec": {
   "display_name": "Python 3",
   "language": "python",
   "name": "python3"
  },
  "language_info": {
   "codemirror_mode": {
    "name": "ipython",
    "version": 3
   },
   "file_extension": ".py",
   "mimetype": "text/x-python",
   "name": "python",
   "nbconvert_exporter": "python",
   "pygments_lexer": "ipython3",
   "version": "3.8.5"
  }
 },
 "nbformat": 4,
 "nbformat_minor": 4
}
